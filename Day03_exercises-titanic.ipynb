{
  "nbformat": 4,
  "nbformat_minor": 0,
  "metadata": {
    "kernelspec": {
      "display_name": "Python 3",
      "language": "python",
      "name": "python3"
    },
    "language_info": {
      "codemirror_mode": {
        "name": "ipython",
        "version": 3
      },
      "file_extension": ".py",
      "mimetype": "text/x-python",
      "name": "python",
      "nbconvert_exporter": "python",
      "pygments_lexer": "ipython3",
      "version": "3.8.3"
    },
    "colab": {
      "name": "Day03_exercises.ipynb",
      "provenance": [],
      "include_colab_link": true
    }
  },
  "cells": [
    {
      "cell_type": "markdown",
      "metadata": {
        "id": "view-in-github",
        "colab_type": "text"
      },
      "source": [
        "<a href=\"https://colab.research.google.com/github/yirouleh/cs167notes/blob/main/Day03_exercises-titanic.ipynb\" target=\"_parent\"><img src=\"https://colab.research.google.com/assets/colab-badge.svg\" alt=\"Open In Colab\"/></a>"
      ]
    },
    {
      "cell_type": "markdown",
      "metadata": {
        "id": "jLxRz8FHj3Br"
      },
      "source": [
        "An example of a markdown cell<br>\n",
        "Author: <b>Yi Rou Leh</b><br>\n",
        "Date: September 7, 2021\n",
        "# Python and Pandas Exercises\n",
        "\n",
        "Before you begin, make sure you download the data from Blackboard and put it in your Google Drive where you know how to find it (preferably in a datasets folder)."
      ]
    },
    {
      "cell_type": "code",
      "metadata": {
        "colab": {
          "base_uri": "https://localhost:8080/"
        },
        "id": "yr0F4GDzj3Bt",
        "outputId": "67e51187-a619-4556-bf4d-d0f0b07e8a76"
      },
      "source": [
        "#selecting columns in dataframes\n",
        "import pandas\n",
        "from google.colab import drive\n",
        "drive.mount('/content/drive')"
      ],
      "execution_count": null,
      "outputs": [
        {
          "output_type": "stream",
          "name": "stdout",
          "text": [
            "Mounted at /content/drive\n"
          ]
        }
      ]
    },
    {
      "cell_type": "code",
      "metadata": {
        "id": "I6j9JDTFkIrK",
        "colab": {
          "base_uri": "https://localhost:8080/",
          "height": 203
        },
        "outputId": "e2d08232-3ff8-4d1e-d272-658489e65406"
      },
      "source": [
        "#import the data:\n",
        "#make sure the path on the line below corresponds to the path where you put your dataset.\n",
        "titanic = pandas.read_csv(\"/content/drive/MyDrive/CS167/datasets/titanic.csv\")\n",
        "titanic.head()"
      ],
      "execution_count": null,
      "outputs": [
        {
          "output_type": "execute_result",
          "data": {
            "text/html": [
              "<div>\n",
              "<style scoped>\n",
              "    .dataframe tbody tr th:only-of-type {\n",
              "        vertical-align: middle;\n",
              "    }\n",
              "\n",
              "    .dataframe tbody tr th {\n",
              "        vertical-align: top;\n",
              "    }\n",
              "\n",
              "    .dataframe thead th {\n",
              "        text-align: right;\n",
              "    }\n",
              "</style>\n",
              "<table border=\"1\" class=\"dataframe\">\n",
              "  <thead>\n",
              "    <tr style=\"text-align: right;\">\n",
              "      <th></th>\n",
              "      <th>survived</th>\n",
              "      <th>pclass</th>\n",
              "      <th>sex</th>\n",
              "      <th>age</th>\n",
              "      <th>sibsp</th>\n",
              "      <th>parch</th>\n",
              "      <th>fare</th>\n",
              "      <th>embarked</th>\n",
              "      <th>class</th>\n",
              "      <th>who</th>\n",
              "      <th>adult_male</th>\n",
              "      <th>deck</th>\n",
              "      <th>embark_town</th>\n",
              "      <th>alive</th>\n",
              "      <th>alone</th>\n",
              "    </tr>\n",
              "  </thead>\n",
              "  <tbody>\n",
              "    <tr>\n",
              "      <th>0</th>\n",
              "      <td>0</td>\n",
              "      <td>3</td>\n",
              "      <td>male</td>\n",
              "      <td>22.0</td>\n",
              "      <td>1</td>\n",
              "      <td>0</td>\n",
              "      <td>7.2500</td>\n",
              "      <td>S</td>\n",
              "      <td>Third</td>\n",
              "      <td>man</td>\n",
              "      <td>True</td>\n",
              "      <td>NaN</td>\n",
              "      <td>Southampton</td>\n",
              "      <td>no</td>\n",
              "      <td>False</td>\n",
              "    </tr>\n",
              "    <tr>\n",
              "      <th>1</th>\n",
              "      <td>1</td>\n",
              "      <td>1</td>\n",
              "      <td>female</td>\n",
              "      <td>38.0</td>\n",
              "      <td>1</td>\n",
              "      <td>0</td>\n",
              "      <td>71.2833</td>\n",
              "      <td>C</td>\n",
              "      <td>First</td>\n",
              "      <td>woman</td>\n",
              "      <td>False</td>\n",
              "      <td>C</td>\n",
              "      <td>Cherbourg</td>\n",
              "      <td>yes</td>\n",
              "      <td>False</td>\n",
              "    </tr>\n",
              "    <tr>\n",
              "      <th>2</th>\n",
              "      <td>1</td>\n",
              "      <td>3</td>\n",
              "      <td>female</td>\n",
              "      <td>26.0</td>\n",
              "      <td>0</td>\n",
              "      <td>0</td>\n",
              "      <td>7.9250</td>\n",
              "      <td>S</td>\n",
              "      <td>Third</td>\n",
              "      <td>woman</td>\n",
              "      <td>False</td>\n",
              "      <td>NaN</td>\n",
              "      <td>Southampton</td>\n",
              "      <td>yes</td>\n",
              "      <td>True</td>\n",
              "    </tr>\n",
              "    <tr>\n",
              "      <th>3</th>\n",
              "      <td>1</td>\n",
              "      <td>1</td>\n",
              "      <td>female</td>\n",
              "      <td>35.0</td>\n",
              "      <td>1</td>\n",
              "      <td>0</td>\n",
              "      <td>53.1000</td>\n",
              "      <td>S</td>\n",
              "      <td>First</td>\n",
              "      <td>woman</td>\n",
              "      <td>False</td>\n",
              "      <td>C</td>\n",
              "      <td>Southampton</td>\n",
              "      <td>yes</td>\n",
              "      <td>False</td>\n",
              "    </tr>\n",
              "    <tr>\n",
              "      <th>4</th>\n",
              "      <td>0</td>\n",
              "      <td>3</td>\n",
              "      <td>male</td>\n",
              "      <td>35.0</td>\n",
              "      <td>0</td>\n",
              "      <td>0</td>\n",
              "      <td>8.0500</td>\n",
              "      <td>S</td>\n",
              "      <td>Third</td>\n",
              "      <td>man</td>\n",
              "      <td>True</td>\n",
              "      <td>NaN</td>\n",
              "      <td>Southampton</td>\n",
              "      <td>no</td>\n",
              "      <td>True</td>\n",
              "    </tr>\n",
              "  </tbody>\n",
              "</table>\n",
              "</div>"
            ],
            "text/plain": [
              "   survived  pclass     sex   age  ...  deck  embark_town  alive  alone\n",
              "0         0       3    male  22.0  ...   NaN  Southampton     no  False\n",
              "1         1       1  female  38.0  ...     C    Cherbourg    yes  False\n",
              "2         1       3  female  26.0  ...   NaN  Southampton    yes   True\n",
              "3         1       1  female  35.0  ...     C  Southampton    yes  False\n",
              "4         0       3    male  35.0  ...   NaN  Southampton     no   True\n",
              "\n",
              "[5 rows x 15 columns]"
            ]
          },
          "metadata": {},
          "execution_count": 2
        }
      ]
    },
    {
      "cell_type": "code",
      "metadata": {
        "id": "a_AVxZI8j3Bt",
        "colab": {
          "base_uri": "https://localhost:8080/"
        },
        "outputId": "673dc4c3-7c5f-4e1c-8314-50d42b09487a"
      },
      "source": [
        "# what is the data type of titanic?\n",
        "print(type(titanic))"
      ],
      "execution_count": null,
      "outputs": [
        {
          "output_type": "stream",
          "name": "stdout",
          "text": [
            "<class 'pandas.core.frame.DataFrame'>\n"
          ]
        }
      ]
    },
    {
      "cell_type": "code",
      "metadata": {
        "id": "jGLg4qpRj3Bu",
        "colab": {
          "base_uri": "https://localhost:8080/"
        },
        "outputId": "4c172348-4c5e-4490-abae-6f312de19687"
      },
      "source": [
        "# what are the features (column titles) of the titanic dataset?\n",
        "titanic.columns"
      ],
      "execution_count": null,
      "outputs": [
        {
          "output_type": "execute_result",
          "data": {
            "text/plain": [
              "Index(['survived', 'pclass', 'sex', 'age', 'sibsp', 'parch', 'fare',\n",
              "       'embarked', 'class', 'who', 'adult_male', 'deck', 'embark_town',\n",
              "       'alive', 'alone'],\n",
              "      dtype='object')"
            ]
          },
          "metadata": {},
          "execution_count": 4
        }
      ]
    },
    {
      "cell_type": "code",
      "metadata": {
        "id": "MboWzAw6j3Bu",
        "colab": {
          "base_uri": "https://localhost:8080/"
        },
        "outputId": "fa37caa2-59ff-4686-b291-d93086ed3623"
      },
      "source": [
        "# display only the 'embark_town' column of the titanic data\n",
        "titanic.embark_town\n",
        "#or\n",
        "titanic[\"embark_town\"]"
      ],
      "execution_count": null,
      "outputs": [
        {
          "output_type": "execute_result",
          "data": {
            "text/plain": [
              "0      Southampton\n",
              "1        Cherbourg\n",
              "2      Southampton\n",
              "3      Southampton\n",
              "4      Southampton\n",
              "          ...     \n",
              "886    Southampton\n",
              "887    Southampton\n",
              "888    Southampton\n",
              "889      Cherbourg\n",
              "890     Queenstown\n",
              "Name: embark_town, Length: 891, dtype: object"
            ]
          },
          "metadata": {},
          "execution_count": 7
        }
      ]
    },
    {
      "cell_type": "code",
      "metadata": {
        "id": "iIfxrKGej3Bu",
        "colab": {
          "base_uri": "https://localhost:8080/"
        },
        "outputId": "e368ba84-872f-4fbc-a6da-b19698d3e14b"
      },
      "source": [
        "# what is the data type of the result of the previous cell? \n",
        "print(type(titanic.embark_town))"
      ],
      "execution_count": null,
      "outputs": [
        {
          "output_type": "stream",
          "name": "stdout",
          "text": [
            "<class 'pandas.core.series.Series'>\n"
          ]
        }
      ]
    },
    {
      "cell_type": "code",
      "metadata": {
        "id": "yMbIVBNUj3Bv",
        "colab": {
          "base_uri": "https://localhost:8080/"
        },
        "outputId": "f1b9a760-7412-469b-d4b8-e71cca6cb900"
      },
      "source": [
        "# what is the \"shape\" of the data frame?\n",
        "print(titanic.shape)"
      ],
      "execution_count": null,
      "outputs": [
        {
          "output_type": "stream",
          "name": "stdout",
          "text": [
            "(891, 15)\n"
          ]
        }
      ]
    },
    {
      "cell_type": "code",
      "metadata": {
        "id": "DwPvjlCyj3Bv",
        "colab": {
          "base_uri": "https://localhost:8080/"
        },
        "outputId": "6bfe9c54-1002-4f04-95a6-f4dfd13c5072"
      },
      "source": [
        "# make a subset (call the variable 'subset') of the data that consists of the last 20 rows of the data;\n",
        "# verify that your subset has 20 rows\n",
        "\n",
        "subset = titanic[-20:]\n",
        "print(subset)"
      ],
      "execution_count": null,
      "outputs": [
        {
          "output_type": "stream",
          "name": "stdout",
          "text": [
            "     survived  pclass     sex   age  ...  deck  embark_town  alive  alone\n",
            "871         1       1  female  47.0  ...     D  Southampton    yes  False\n",
            "872         0       1    male  33.0  ...     B  Southampton     no   True\n",
            "873         0       3    male  47.0  ...   NaN  Southampton     no   True\n",
            "874         1       2  female  28.0  ...   NaN    Cherbourg    yes  False\n",
            "875         1       3  female  15.0  ...   NaN    Cherbourg    yes   True\n",
            "876         0       3    male  20.0  ...   NaN  Southampton     no   True\n",
            "877         0       3    male  19.0  ...   NaN  Southampton     no   True\n",
            "878         0       3    male   NaN  ...   NaN  Southampton     no   True\n",
            "879         1       1  female  56.0  ...     C    Cherbourg    yes  False\n",
            "880         1       2  female  25.0  ...   NaN  Southampton    yes  False\n",
            "881         0       3    male  33.0  ...   NaN  Southampton     no   True\n",
            "882         0       3  female  22.0  ...   NaN  Southampton     no   True\n",
            "883         0       2    male  28.0  ...   NaN  Southampton     no   True\n",
            "884         0       3    male  25.0  ...   NaN  Southampton     no   True\n",
            "885         0       3  female  39.0  ...   NaN   Queenstown     no  False\n",
            "886         0       2    male  27.0  ...   NaN  Southampton     no   True\n",
            "887         1       1  female  19.0  ...     B  Southampton    yes   True\n",
            "888         0       3  female   NaN  ...   NaN  Southampton     no  False\n",
            "889         1       1    male  26.0  ...     C    Cherbourg    yes   True\n",
            "890         0       3    male  32.0  ...   NaN   Queenstown     no   True\n",
            "\n",
            "[20 rows x 15 columns]\n"
          ]
        }
      ]
    },
    {
      "cell_type": "code",
      "metadata": {
        "id": "EcgIP2CHj3Bv",
        "colab": {
          "base_uri": "https://localhost:8080/"
        },
        "outputId": "247c03b7-8c93-4dde-90d1-c08f42d833f6"
      },
      "source": [
        "# use loc to print out the data for passenger 890 on the titanic dataframe\n",
        "# use iloc to print out the data for passenger 890 on the subest dataframe\n",
        "\n",
        "print(titanic.loc[890])\n",
        "print(subset.iloc[19])"
      ],
      "execution_count": null,
      "outputs": [
        {
          "output_type": "stream",
          "name": "stdout",
          "text": [
            "survived                0\n",
            "pclass                  3\n",
            "sex                  male\n",
            "age                    32\n",
            "sibsp                   0\n",
            "parch                   0\n",
            "fare                 7.75\n",
            "embarked                Q\n",
            "class               Third\n",
            "who                   man\n",
            "adult_male           True\n",
            "deck                  NaN\n",
            "embark_town    Queenstown\n",
            "alive                  no\n",
            "alone                True\n",
            "Name: 890, dtype: object\n",
            "survived                0\n",
            "pclass                  3\n",
            "sex                  male\n",
            "age                    32\n",
            "sibsp                   0\n",
            "parch                   0\n",
            "fare                 7.75\n",
            "embarked                Q\n",
            "class               Third\n",
            "who                   man\n",
            "adult_male           True\n",
            "deck                  NaN\n",
            "embark_town    Queenstown\n",
            "alive                  no\n",
            "alone                True\n",
            "Name: 890, dtype: object\n"
          ]
        }
      ]
    },
    {
      "cell_type": "code",
      "metadata": {
        "id": "Pt8Yjfoaj3Bw"
      },
      "source": [
        "# use a markdown cell; describe the difference between loc and iloc"
      ],
      "execution_count": null,
      "outputs": []
    },
    {
      "cell_type": "markdown",
      "metadata": {
        "id": "oec7RO9VzvC4"
      },
      "source": [
        "Loc is label-based, we need to specify rows and columns based on their row a column labels.\n",
        "\n",
        "iLoc is integer position-based, so you have to specify rows and columns by their integer position values"
      ]
    },
    {
      "cell_type": "code",
      "metadata": {
        "id": "lUWU4TPXj3Bw",
        "colab": {
          "base_uri": "https://localhost:8080/"
        },
        "outputId": "3c0cbf05-f635-4954-a097-c459a9844a37"
      },
      "source": [
        "# create a subset of the data (call the variable 'queenstown_subset') that consists only of passengers with\n",
        "# a 'embark_town' that is \"Queenstown\"\n",
        "# hint: if you get a warning, you may need to explicitly note that you are making a copy of the original data by using \n",
        "# the .copy() function\n",
        "\n",
        "queenstown_subset = titanic[(titanic['embark_town'] == \"Queenstown\")]\n",
        "print(queenstown_subset)"
      ],
      "execution_count": null,
      "outputs": [
        {
          "output_type": "stream",
          "name": "stdout",
          "text": [
            "     survived  pclass     sex   age  ...  deck  embark_town  alive  alone\n",
            "5           0       3    male   NaN  ...   NaN   Queenstown     no   True\n",
            "16          0       3    male   2.0  ...   NaN   Queenstown     no  False\n",
            "22          1       3  female  15.0  ...   NaN   Queenstown    yes   True\n",
            "28          1       3  female   NaN  ...   NaN   Queenstown    yes   True\n",
            "32          1       3  female   NaN  ...   NaN   Queenstown    yes   True\n",
            "..        ...     ...     ...   ...  ...   ...          ...    ...    ...\n",
            "790         0       3    male   NaN  ...   NaN   Queenstown     no   True\n",
            "825         0       3    male   NaN  ...   NaN   Queenstown     no   True\n",
            "828         1       3    male   NaN  ...   NaN   Queenstown    yes   True\n",
            "885         0       3  female  39.0  ...   NaN   Queenstown     no  False\n",
            "890         0       3    male  32.0  ...   NaN   Queenstown     no   True\n",
            "\n",
            "[77 rows x 15 columns]\n"
          ]
        }
      ]
    },
    {
      "cell_type": "code",
      "metadata": {
        "id": "JXEMz80qj3Bw",
        "colab": {
          "base_uri": "https://localhost:8080/"
        },
        "outputId": "e7fc63a2-9928-4296-f13b-c17eee234163"
      },
      "source": [
        "# how many passengers are in queenstown_subset?\n",
        "queenstown_subset.shape[0]"
      ],
      "execution_count": null,
      "outputs": [
        {
          "output_type": "execute_result",
          "data": {
            "text/plain": [
              "77"
            ]
          },
          "metadata": {},
          "execution_count": 25
        }
      ]
    },
    {
      "cell_type": "code",
      "metadata": {
        "id": "xUH8PUxYj3Bw",
        "colab": {
          "base_uri": "https://localhost:8080/"
        },
        "outputId": "9590d722-a387-4c53-c317-0d55b74612b2"
      },
      "source": [
        "# what is the average fare for all of those in the queenstown_subset?\n",
        "queenstown_subset.fare.mean()"
      ],
      "execution_count": null,
      "outputs": [
        {
          "output_type": "execute_result",
          "data": {
            "text/plain": [
              "13.276029870129872"
            ]
          },
          "metadata": {},
          "execution_count": 26
        }
      ]
    },
    {
      "cell_type": "code",
      "metadata": {
        "id": "6pwExAOFj3Bx",
        "colab": {
          "base_uri": "https://localhost:8080/"
        },
        "outputId": "66ee73e8-85ec-496e-ee93-79eef4a49c47"
      },
      "source": [
        "# what is the average age for all of those in the queenstown_subset?\n",
        "# do all of the passengers have an age recorded? What is recorded if there is no age?\n",
        "print(queenstown_subset.age.mean())\n",
        "# not all of the passengers haev an age recorded. It is recorded as NaN which indicates an empty cell"
      ],
      "execution_count": null,
      "outputs": [
        {
          "output_type": "stream",
          "name": "stdout",
          "text": [
            "28.089285714285715\n"
          ]
        }
      ]
    },
    {
      "cell_type": "code",
      "metadata": {
        "id": "LJKj3kqOj3Bx"
      },
      "source": [
        "# What does unique(), mean(), isnull(), and fillna() do? Use a markdown cell to write your answers\n",
        "# Use the Pandas documentation (https://pandas.pydata.org/pandas-docs/stable/reference/index.html)"
      ],
      "execution_count": null,
      "outputs": []
    },
    {
      "cell_type": "markdown",
      "metadata": {
        "id": "5bNEvsCZ1LRF"
      },
      "source": [
        "unique(): return unique values in the index; it is returned in order of appearance, this does not sort.\n",
        "\n",
        "mean(): return the mean of the values over the requested axis\n",
        "\n",
        "isnull(): detect missing values; return a boolean same-sizedobject indicating if the values are NA values.\n",
        "\n",
        "fillna(): Fill NA/NaN values with the specific value."
      ]
    },
    {
      "cell_type": "code",
      "metadata": {
        "id": "oyMWoEn1j3Bx",
        "colab": {
          "base_uri": "https://localhost:8080/"
        },
        "outputId": "71d45ebb-f368-49fc-be5b-c7bdeefd6d5b"
      },
      "source": [
        "# give examples of your use of unique(), mean(), median(), isnull()\n",
        "\n",
        "queenstown_subset.age.isnull()"
      ],
      "execution_count": null,
      "outputs": [
        {
          "output_type": "execute_result",
          "data": {
            "text/plain": [
              "5       True\n",
              "16     False\n",
              "22     False\n",
              "28      True\n",
              "32      True\n",
              "       ...  \n",
              "790     True\n",
              "825     True\n",
              "828     True\n",
              "885    False\n",
              "890    False\n",
              "Name: age, Length: 77, dtype: bool"
            ]
          },
          "metadata": {},
          "execution_count": 29
        }
      ]
    },
    {
      "cell_type": "code",
      "metadata": {
        "id": "SCclnZC7j3Bx",
        "colab": {
          "base_uri": "https://localhost:8080/",
          "height": 501
        },
        "outputId": "8b875b2a-3470-49f3-cc62-fbe4373a9562"
      },
      "source": [
        "# in the queenstown_subet dataframe\n",
        "# for each row that does not have an age recorded, replace the NaN value with the calculated average\n",
        "# hint: don't use a loop; it can be done in 1 line of code using fillna()\n",
        "queenstown_subset2 = queenstown_subset.copy()\n",
        "queenstwon_subset2.age = queenstown_subset.age.fillna(queenstown_subset.age.mean(), inplace=True)\n",
        "queenstown_subset2\n"
      ],
      "execution_count": null,
      "outputs": [
        {
          "output_type": "stream",
          "name": "stderr",
          "text": [
            "/usr/local/lib/python3.7/dist-packages/pandas/core/series.py:4536: SettingWithCopyWarning: \n",
            "A value is trying to be set on a copy of a slice from a DataFrame\n",
            "\n",
            "See the caveats in the documentation: https://pandas.pydata.org/pandas-docs/stable/user_guide/indexing.html#returning-a-view-versus-a-copy\n",
            "  downcast=downcast,\n"
          ]
        },
        {
          "output_type": "execute_result",
          "data": {
            "text/html": [
              "<div>\n",
              "<style scoped>\n",
              "    .dataframe tbody tr th:only-of-type {\n",
              "        vertical-align: middle;\n",
              "    }\n",
              "\n",
              "    .dataframe tbody tr th {\n",
              "        vertical-align: top;\n",
              "    }\n",
              "\n",
              "    .dataframe thead th {\n",
              "        text-align: right;\n",
              "    }\n",
              "</style>\n",
              "<table border=\"1\" class=\"dataframe\">\n",
              "  <thead>\n",
              "    <tr style=\"text-align: right;\">\n",
              "      <th></th>\n",
              "      <th>survived</th>\n",
              "      <th>pclass</th>\n",
              "      <th>sex</th>\n",
              "      <th>age</th>\n",
              "      <th>sibsp</th>\n",
              "      <th>parch</th>\n",
              "      <th>fare</th>\n",
              "      <th>embarked</th>\n",
              "      <th>class</th>\n",
              "      <th>who</th>\n",
              "      <th>adult_male</th>\n",
              "      <th>deck</th>\n",
              "      <th>embark_town</th>\n",
              "      <th>alive</th>\n",
              "      <th>alone</th>\n",
              "    </tr>\n",
              "  </thead>\n",
              "  <tbody>\n",
              "    <tr>\n",
              "      <th>5</th>\n",
              "      <td>0</td>\n",
              "      <td>3</td>\n",
              "      <td>male</td>\n",
              "      <td>28.089286</td>\n",
              "      <td>0</td>\n",
              "      <td>0</td>\n",
              "      <td>8.4583</td>\n",
              "      <td>Q</td>\n",
              "      <td>Third</td>\n",
              "      <td>man</td>\n",
              "      <td>True</td>\n",
              "      <td>NaN</td>\n",
              "      <td>Queenstown</td>\n",
              "      <td>no</td>\n",
              "      <td>True</td>\n",
              "    </tr>\n",
              "    <tr>\n",
              "      <th>16</th>\n",
              "      <td>0</td>\n",
              "      <td>3</td>\n",
              "      <td>male</td>\n",
              "      <td>2.000000</td>\n",
              "      <td>4</td>\n",
              "      <td>1</td>\n",
              "      <td>29.1250</td>\n",
              "      <td>Q</td>\n",
              "      <td>Third</td>\n",
              "      <td>child</td>\n",
              "      <td>False</td>\n",
              "      <td>NaN</td>\n",
              "      <td>Queenstown</td>\n",
              "      <td>no</td>\n",
              "      <td>False</td>\n",
              "    </tr>\n",
              "    <tr>\n",
              "      <th>22</th>\n",
              "      <td>1</td>\n",
              "      <td>3</td>\n",
              "      <td>female</td>\n",
              "      <td>15.000000</td>\n",
              "      <td>0</td>\n",
              "      <td>0</td>\n",
              "      <td>8.0292</td>\n",
              "      <td>Q</td>\n",
              "      <td>Third</td>\n",
              "      <td>child</td>\n",
              "      <td>False</td>\n",
              "      <td>NaN</td>\n",
              "      <td>Queenstown</td>\n",
              "      <td>yes</td>\n",
              "      <td>True</td>\n",
              "    </tr>\n",
              "    <tr>\n",
              "      <th>28</th>\n",
              "      <td>1</td>\n",
              "      <td>3</td>\n",
              "      <td>female</td>\n",
              "      <td>28.089286</td>\n",
              "      <td>0</td>\n",
              "      <td>0</td>\n",
              "      <td>7.8792</td>\n",
              "      <td>Q</td>\n",
              "      <td>Third</td>\n",
              "      <td>woman</td>\n",
              "      <td>False</td>\n",
              "      <td>NaN</td>\n",
              "      <td>Queenstown</td>\n",
              "      <td>yes</td>\n",
              "      <td>True</td>\n",
              "    </tr>\n",
              "    <tr>\n",
              "      <th>32</th>\n",
              "      <td>1</td>\n",
              "      <td>3</td>\n",
              "      <td>female</td>\n",
              "      <td>28.089286</td>\n",
              "      <td>0</td>\n",
              "      <td>0</td>\n",
              "      <td>7.7500</td>\n",
              "      <td>Q</td>\n",
              "      <td>Third</td>\n",
              "      <td>woman</td>\n",
              "      <td>False</td>\n",
              "      <td>NaN</td>\n",
              "      <td>Queenstown</td>\n",
              "      <td>yes</td>\n",
              "      <td>True</td>\n",
              "    </tr>\n",
              "    <tr>\n",
              "      <th>...</th>\n",
              "      <td>...</td>\n",
              "      <td>...</td>\n",
              "      <td>...</td>\n",
              "      <td>...</td>\n",
              "      <td>...</td>\n",
              "      <td>...</td>\n",
              "      <td>...</td>\n",
              "      <td>...</td>\n",
              "      <td>...</td>\n",
              "      <td>...</td>\n",
              "      <td>...</td>\n",
              "      <td>...</td>\n",
              "      <td>...</td>\n",
              "      <td>...</td>\n",
              "      <td>...</td>\n",
              "    </tr>\n",
              "    <tr>\n",
              "      <th>790</th>\n",
              "      <td>0</td>\n",
              "      <td>3</td>\n",
              "      <td>male</td>\n",
              "      <td>28.089286</td>\n",
              "      <td>0</td>\n",
              "      <td>0</td>\n",
              "      <td>7.7500</td>\n",
              "      <td>Q</td>\n",
              "      <td>Third</td>\n",
              "      <td>man</td>\n",
              "      <td>True</td>\n",
              "      <td>NaN</td>\n",
              "      <td>Queenstown</td>\n",
              "      <td>no</td>\n",
              "      <td>True</td>\n",
              "    </tr>\n",
              "    <tr>\n",
              "      <th>825</th>\n",
              "      <td>0</td>\n",
              "      <td>3</td>\n",
              "      <td>male</td>\n",
              "      <td>28.089286</td>\n",
              "      <td>0</td>\n",
              "      <td>0</td>\n",
              "      <td>6.9500</td>\n",
              "      <td>Q</td>\n",
              "      <td>Third</td>\n",
              "      <td>man</td>\n",
              "      <td>True</td>\n",
              "      <td>NaN</td>\n",
              "      <td>Queenstown</td>\n",
              "      <td>no</td>\n",
              "      <td>True</td>\n",
              "    </tr>\n",
              "    <tr>\n",
              "      <th>828</th>\n",
              "      <td>1</td>\n",
              "      <td>3</td>\n",
              "      <td>male</td>\n",
              "      <td>28.089286</td>\n",
              "      <td>0</td>\n",
              "      <td>0</td>\n",
              "      <td>7.7500</td>\n",
              "      <td>Q</td>\n",
              "      <td>Third</td>\n",
              "      <td>man</td>\n",
              "      <td>True</td>\n",
              "      <td>NaN</td>\n",
              "      <td>Queenstown</td>\n",
              "      <td>yes</td>\n",
              "      <td>True</td>\n",
              "    </tr>\n",
              "    <tr>\n",
              "      <th>885</th>\n",
              "      <td>0</td>\n",
              "      <td>3</td>\n",
              "      <td>female</td>\n",
              "      <td>39.000000</td>\n",
              "      <td>0</td>\n",
              "      <td>5</td>\n",
              "      <td>29.1250</td>\n",
              "      <td>Q</td>\n",
              "      <td>Third</td>\n",
              "      <td>woman</td>\n",
              "      <td>False</td>\n",
              "      <td>NaN</td>\n",
              "      <td>Queenstown</td>\n",
              "      <td>no</td>\n",
              "      <td>False</td>\n",
              "    </tr>\n",
              "    <tr>\n",
              "      <th>890</th>\n",
              "      <td>0</td>\n",
              "      <td>3</td>\n",
              "      <td>male</td>\n",
              "      <td>32.000000</td>\n",
              "      <td>0</td>\n",
              "      <td>0</td>\n",
              "      <td>7.7500</td>\n",
              "      <td>Q</td>\n",
              "      <td>Third</td>\n",
              "      <td>man</td>\n",
              "      <td>True</td>\n",
              "      <td>NaN</td>\n",
              "      <td>Queenstown</td>\n",
              "      <td>no</td>\n",
              "      <td>True</td>\n",
              "    </tr>\n",
              "  </tbody>\n",
              "</table>\n",
              "<p>77 rows × 15 columns</p>\n",
              "</div>"
            ],
            "text/plain": [
              "     survived  pclass     sex        age  ...  deck  embark_town  alive  alone\n",
              "5           0       3    male  28.089286  ...   NaN   Queenstown     no   True\n",
              "16          0       3    male   2.000000  ...   NaN   Queenstown     no  False\n",
              "22          1       3  female  15.000000  ...   NaN   Queenstown    yes   True\n",
              "28          1       3  female  28.089286  ...   NaN   Queenstown    yes   True\n",
              "32          1       3  female  28.089286  ...   NaN   Queenstown    yes   True\n",
              "..        ...     ...     ...        ...  ...   ...          ...    ...    ...\n",
              "790         0       3    male  28.089286  ...   NaN   Queenstown     no   True\n",
              "825         0       3    male  28.089286  ...   NaN   Queenstown     no   True\n",
              "828         1       3    male  28.089286  ...   NaN   Queenstown    yes   True\n",
              "885         0       3  female  39.000000  ...   NaN   Queenstown     no  False\n",
              "890         0       3    male  32.000000  ...   NaN   Queenstown     no   True\n",
              "\n",
              "[77 rows x 15 columns]"
            ]
          },
          "metadata": {},
          "execution_count": 47
        }
      ]
    },
    {
      "cell_type": "code",
      "metadata": {
        "id": "c9DPtgIOj3By",
        "colab": {
          "base_uri": "https://localhost:8080/",
          "height": 203
        },
        "outputId": "5e8f93fe-e8d2-43d2-b456-1783140f77a2"
      },
      "source": [
        "# load in the iris data\n",
        "iris = pandas.read_csv(\"/content/drive/MyDrive/CS167/datasets/irisData.csv\")\n",
        "iris.head()\n"
      ],
      "execution_count": null,
      "outputs": [
        {
          "output_type": "execute_result",
          "data": {
            "text/html": [
              "<div>\n",
              "<style scoped>\n",
              "    .dataframe tbody tr th:only-of-type {\n",
              "        vertical-align: middle;\n",
              "    }\n",
              "\n",
              "    .dataframe tbody tr th {\n",
              "        vertical-align: top;\n",
              "    }\n",
              "\n",
              "    .dataframe thead th {\n",
              "        text-align: right;\n",
              "    }\n",
              "</style>\n",
              "<table border=\"1\" class=\"dataframe\">\n",
              "  <thead>\n",
              "    <tr style=\"text-align: right;\">\n",
              "      <th></th>\n",
              "      <th>sepal length</th>\n",
              "      <th>sepal width</th>\n",
              "      <th>petal length</th>\n",
              "      <th>petal width</th>\n",
              "      <th>species</th>\n",
              "    </tr>\n",
              "  </thead>\n",
              "  <tbody>\n",
              "    <tr>\n",
              "      <th>0</th>\n",
              "      <td>5.1</td>\n",
              "      <td>3.5</td>\n",
              "      <td>1.4</td>\n",
              "      <td>0.2</td>\n",
              "      <td>Iris-setosa</td>\n",
              "    </tr>\n",
              "    <tr>\n",
              "      <th>1</th>\n",
              "      <td>4.9</td>\n",
              "      <td>3.0</td>\n",
              "      <td>1.4</td>\n",
              "      <td>0.2</td>\n",
              "      <td>Iris-setosa</td>\n",
              "    </tr>\n",
              "    <tr>\n",
              "      <th>2</th>\n",
              "      <td>4.7</td>\n",
              "      <td>3.2</td>\n",
              "      <td>1.3</td>\n",
              "      <td>0.2</td>\n",
              "      <td>Iris-setosa</td>\n",
              "    </tr>\n",
              "    <tr>\n",
              "      <th>3</th>\n",
              "      <td>4.6</td>\n",
              "      <td>3.1</td>\n",
              "      <td>1.5</td>\n",
              "      <td>0.2</td>\n",
              "      <td>Iris-setosa</td>\n",
              "    </tr>\n",
              "    <tr>\n",
              "      <th>4</th>\n",
              "      <td>5.0</td>\n",
              "      <td>3.6</td>\n",
              "      <td>1.4</td>\n",
              "      <td>0.2</td>\n",
              "      <td>Iris-setosa</td>\n",
              "    </tr>\n",
              "  </tbody>\n",
              "</table>\n",
              "</div>"
            ],
            "text/plain": [
              "   sepal length  sepal width  petal length  petal width      species\n",
              "0           5.1          3.5           1.4          0.2  Iris-setosa\n",
              "1           4.9          3.0           1.4          0.2  Iris-setosa\n",
              "2           4.7          3.2           1.3          0.2  Iris-setosa\n",
              "3           4.6          3.1           1.5          0.2  Iris-setosa\n",
              "4           5.0          3.6           1.4          0.2  Iris-setosa"
            ]
          },
          "metadata": {},
          "execution_count": 42
        }
      ]
    },
    {
      "cell_type": "code",
      "metadata": {
        "colab": {
          "base_uri": "https://localhost:8080/"
        },
        "id": "_Lm5LvGm4cKD",
        "outputId": "321037a6-49f5-454c-fd21-0ae56efd6a50"
      },
      "source": [
        "# what is the median sepal width of just the Setosas?\n",
        "sentosas = iris[iris['species'] == 'Iris-setosa']\n",
        "sentosas['sepal width'].median()"
      ],
      "execution_count": null,
      "outputs": [
        {
          "output_type": "execute_result",
          "data": {
            "text/plain": [
              "3.4"
            ]
          },
          "metadata": {},
          "execution_count": 45
        }
      ]
    },
    {
      "cell_type": "code",
      "metadata": {
        "id": "eKSOIeZNj3By",
        "colab": {
          "base_uri": "https://localhost:8080/"
        },
        "outputId": "45bf9de5-b401-40ad-c133-68a905f75292"
      },
      "source": [
        "# for those iris that are classified as versicolor and have \n",
        "# a petal-length > 4, what is the average sepal width?\n",
        "big_petal_versicolors = iris[(iris['species']=='Iris-versicolor')&(iris['petal length']>4)]\n",
        "big_petal_versicolors['sepal width'].mean()"
      ],
      "execution_count": null,
      "outputs": [
        {
          "output_type": "execute_result",
          "data": {
            "text/plain": [
              "2.902941176470588"
            ]
          },
          "metadata": {},
          "execution_count": 46
        }
      ]
    }
  ]
}