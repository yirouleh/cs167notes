{
  "nbformat": 4,
  "nbformat_minor": 0,
  "metadata": {
    "colab": {
      "name": "Day17_Notes_perceptron_f21.ipynb",
      "provenance": [],
      "include_colab_link": true
    },
    "kernelspec": {
      "name": "python3",
      "display_name": "Python 3"
    },
    "language_info": {
      "name": "python"
    }
  },
  "cells": [
    {
      "cell_type": "markdown",
      "metadata": {
        "id": "view-in-github",
        "colab_type": "text"
      },
      "source": [
        "<a href=\"https://colab.research.google.com/github/yirouleh/cs167notes/blob/main/Day17_Notes_perceptron_f21.ipynb\" target=\"_parent\"><img src=\"https://colab.research.google.com/assets/colab-badge.svg\" alt=\"Open In Colab\"/></a>"
      ]
    },
    {
      "cell_type": "markdown",
      "metadata": {
        "id": "SvrFBuR5QclX"
      },
      "source": [
        "# Day 17 Notes (Fall 2021)\n",
        "\n",
        "Perceptron and SGD"
      ]
    },
    {
      "cell_type": "code",
      "metadata": {
        "colab": {
          "base_uri": "https://localhost:8080/"
        },
        "id": "fg9QkVM_8T22",
        "outputId": "8c5c2b6a-cdc7-41ca-c2ab-9fae4abdf3ba"
      },
      "source": [
        "from google.colab import drive\n",
        "import pandas\n",
        "drive.mount('/content/drive')\n",
        "iris_data = pandas.read_csv('/content/drive/MyDrive/CS167/datasets/irisData.csv')"
      ],
      "execution_count": 1,
      "outputs": [
        {
          "output_type": "stream",
          "name": "stdout",
          "text": [
            "Mounted at /content/drive\n"
          ]
        }
      ]
    },
    {
      "cell_type": "code",
      "metadata": {
        "colab": {
          "base_uri": "https://localhost:8080/",
          "height": 220
        },
        "id": "Q-PmqYRi8gnD",
        "outputId": "f39e31c4-e13c-4c71-b1bb-84e1a62cbf6d"
      },
      "source": [
        "#create dummy variables for species in Iris data\n",
        "iris_dummies = pandas.get_dummies(iris_data, columns = ['species'])\n",
        "iris_dummies.head()"
      ],
      "execution_count": 2,
      "outputs": [
        {
          "output_type": "execute_result",
          "data": {
            "text/html": [
              "<div>\n",
              "<style scoped>\n",
              "    .dataframe tbody tr th:only-of-type {\n",
              "        vertical-align: middle;\n",
              "    }\n",
              "\n",
              "    .dataframe tbody tr th {\n",
              "        vertical-align: top;\n",
              "    }\n",
              "\n",
              "    .dataframe thead th {\n",
              "        text-align: right;\n",
              "    }\n",
              "</style>\n",
              "<table border=\"1\" class=\"dataframe\">\n",
              "  <thead>\n",
              "    <tr style=\"text-align: right;\">\n",
              "      <th></th>\n",
              "      <th>sepal length</th>\n",
              "      <th>sepal width</th>\n",
              "      <th>petal length</th>\n",
              "      <th>petal width</th>\n",
              "      <th>species_Iris-setosa</th>\n",
              "      <th>species_Iris-versicolor</th>\n",
              "      <th>species_Iris-virginica</th>\n",
              "    </tr>\n",
              "  </thead>\n",
              "  <tbody>\n",
              "    <tr>\n",
              "      <th>0</th>\n",
              "      <td>5.1</td>\n",
              "      <td>3.5</td>\n",
              "      <td>1.4</td>\n",
              "      <td>0.2</td>\n",
              "      <td>1</td>\n",
              "      <td>0</td>\n",
              "      <td>0</td>\n",
              "    </tr>\n",
              "    <tr>\n",
              "      <th>1</th>\n",
              "      <td>4.9</td>\n",
              "      <td>3.0</td>\n",
              "      <td>1.4</td>\n",
              "      <td>0.2</td>\n",
              "      <td>1</td>\n",
              "      <td>0</td>\n",
              "      <td>0</td>\n",
              "    </tr>\n",
              "    <tr>\n",
              "      <th>2</th>\n",
              "      <td>4.7</td>\n",
              "      <td>3.2</td>\n",
              "      <td>1.3</td>\n",
              "      <td>0.2</td>\n",
              "      <td>1</td>\n",
              "      <td>0</td>\n",
              "      <td>0</td>\n",
              "    </tr>\n",
              "    <tr>\n",
              "      <th>3</th>\n",
              "      <td>4.6</td>\n",
              "      <td>3.1</td>\n",
              "      <td>1.5</td>\n",
              "      <td>0.2</td>\n",
              "      <td>1</td>\n",
              "      <td>0</td>\n",
              "      <td>0</td>\n",
              "    </tr>\n",
              "    <tr>\n",
              "      <th>4</th>\n",
              "      <td>5.0</td>\n",
              "      <td>3.6</td>\n",
              "      <td>1.4</td>\n",
              "      <td>0.2</td>\n",
              "      <td>1</td>\n",
              "      <td>0</td>\n",
              "      <td>0</td>\n",
              "    </tr>\n",
              "  </tbody>\n",
              "</table>\n",
              "</div>"
            ],
            "text/plain": [
              "   sepal length  sepal width  ...  species_Iris-versicolor  species_Iris-virginica\n",
              "0           5.1          3.5  ...                        0                       0\n",
              "1           4.9          3.0  ...                        0                       0\n",
              "2           4.7          3.2  ...                        0                       0\n",
              "3           4.6          3.1  ...                        0                       0\n",
              "4           5.0          3.6  ...                        0                       0\n",
              "\n",
              "[5 rows x 7 columns]"
            ]
          },
          "metadata": {},
          "execution_count": 2
        }
      ]
    },
    {
      "cell_type": "code",
      "metadata": {
        "colab": {
          "base_uri": "https://localhost:8080/"
        },
        "id": "52CrqSnk8qXQ",
        "outputId": "9fc1ec0f-2f67-4dfa-cd3f-95aaa3e60a35"
      },
      "source": [
        "### use a Perceptron to predict if an iris is a Setosa\n",
        "\n",
        "import pandas\n",
        "from sklearn.model_selection import train_test_split\n",
        "from sklearn.linear_model import Perceptron\n",
        "from sklearn import metrics\n",
        "\n",
        "\n",
        "#ignore warings -- there are lots of warnings regarding default values of Perceptron; which we accept\n",
        "import warnings\n",
        "warnings.filterwarnings(\"ignore\")\n",
        "\n",
        "# get \"dummy\" variables for species\n",
        "iris_dummies = pandas.get_dummies(iris_data, columns = ['species'])\n",
        "predictors = ['sepal length', 'sepal width', 'petal length', 'petal width']\n",
        "target = \"species_Iris-setosa\"\n",
        "\n",
        "#establish training and testing sets\n",
        "train_data, test_data, train_sln, test_sln = train_test_split(iris_dummies[predictors], iris_dummies[target], test_size = 0.2, random_state=41)\n",
        "\n",
        "#load up scikit-learn Perceptron\n",
        "perc = Perceptron()\n",
        "perc.fit(train_data,train_sln)\n",
        "iris_perc_predictions = perc.predict(test_data)\n",
        "\n",
        "#output accuracy\n",
        "print(\"Setosa accuracy:\", metrics.accuracy_score(test_sln, iris_perc_predictions))"
      ],
      "execution_count": 3,
      "outputs": [
        {
          "output_type": "stream",
          "name": "stdout",
          "text": [
            "Setosa accuracy: 1.0\n"
          ]
        }
      ]
    },
    {
      "cell_type": "code",
      "metadata": {
        "id": "NmuvJXiAOiL7",
        "colab": {
          "base_uri": "https://localhost:8080/",
          "height": 458
        },
        "outputId": "14168922-098b-4607-a756-685bca033083"
      },
      "source": [
        "#let's take a look at the data:\n",
        "import seaborn as sns\n",
        "import matplotlib.pyplot as plt\n",
        " \n",
        "iris = sns.load_dataset('iris')\n",
        "sns.set_style(\"whitegrid\")\n",
        " \n",
        "# sepal_length, petal_length are iris\n",
        "# feature data height used to define\n",
        "# Height of graph whereas hue store the\n",
        "# class of iris dataset.\n",
        "sns.FacetGrid(iris, hue =\"species\",\n",
        "              height = 6).map(plt.scatter,\n",
        "                              'petal_width',\n",
        "                              'petal_length').add_legend()\n"
      ],
      "execution_count": 4,
      "outputs": [
        {
          "output_type": "execute_result",
          "data": {
            "text/plain": [
              "<seaborn.axisgrid.FacetGrid at 0x7ff7f7fc3890>"
            ]
          },
          "metadata": {},
          "execution_count": 4
        },
        {
          "output_type": "display_data",
          "data": {
            "image/png": "[encoded data removed]",
            "text/plain": [
              "<Figure size 516.75x432 with 1 Axes>"
            ]
          },
          "metadata": {}
        }
      ]
    },
    {
      "cell_type": "markdown",
      "metadata": {
        "id": "Rr-T8k-pCf4_"
      },
      "source": [
        "# In class Exercise 1:\n",
        "- Given the example for species_Iris-setosa, how does Perceptron do for:\n",
        "  - species_Iris-virginica\n",
        "  - species_Iris-versicolor\n",
        "- Do you expect these to also give 100% accuracy? Why or why not?"
      ]
    },
    {
      "cell_type": "code",
      "metadata": {
        "id": "HF5CvZX2CfnE",
        "outputId": "1e5012e0-6351-4c35-c786-36449cf6592b",
        "colab": {
          "base_uri": "https://localhost:8080/"
        }
      },
      "source": [
        "# Code for testing the accuracy of species_Iris-virginica using a Perceptron\n",
        "target_vi = \"species_Iris-virginica\"\n",
        "\n",
        "#establish training and testing sets\n",
        "train_data, test_data, train_sln, test_sln = train_test_split(iris_dummies[predictors], iris_dummies[target_vi], test_size = 0.2, random_state=41)\n",
        "\n",
        "#load up scikit-learn Perceptron\n",
        "perc = Perceptron()\n",
        "perc.fit(train_data,train_sln)\n",
        "iris_perc_predictions_vi = perc.predict(test_data)\n",
        "\n",
        "#output accuracy\n",
        "print(\"Virginica accuracy:\", metrics.accuracy_score(test_sln, iris_perc_predictions_vi))"
      ],
      "execution_count": 5,
      "outputs": [
        {
          "output_type": "stream",
          "name": "stdout",
          "text": [
            "Virginica accuracy: 0.6666666666666666\n"
          ]
        }
      ]
    },
    {
      "cell_type": "code",
      "metadata": {
        "id": "vwFc6m3M9FYH",
        "outputId": "3191be1c-0d10-4857-d4d6-ef564c4530ca",
        "colab": {
          "base_uri": "https://localhost:8080/"
        }
      },
      "source": [
        "# Code for testing the accuracy of species_Iris-versicolor using a Perceptron\n",
        "target_ve = \"species_Iris-versicolor\"\n",
        "\n",
        "#establish training and testing sets\n",
        "train_data, test_data, train_sln, test_sln = train_test_split(iris_dummies[predictors], iris_dummies[target_ve], test_size = 0.2, random_state=41)\n",
        "\n",
        "#load up scikit-learn Perceptron\n",
        "perc = Perceptron()\n",
        "perc.fit(train_data,train_sln)\n",
        "iris_perc_predictions_ve = perc.predict(test_data)\n",
        "\n",
        "#output accuracy\n",
        "print(\"Versicolor accuracy:\", metrics.accuracy_score(test_sln, iris_perc_predictions_ve))"
      ],
      "execution_count": 6,
      "outputs": [
        {
          "output_type": "stream",
          "name": "stdout",
          "text": [
            "Versicolor accuracy: 0.6333333333333333\n"
          ]
        }
      ]
    },
    {
      "cell_type": "markdown",
      "metadata": {
        "id": "zDsydOAIDNLr"
      },
      "source": [
        "# Boston Housing Dataset:\n",
        "\n",
        "- CRIM - per capita crime rate by town\n",
        "- ZN - proportion of residential land zoned for lots over 25,000 sq.ft.\n",
        "- INDUS - proportion of non-retail business acres per town.\n",
        "- CHAS - Charles River dummy variable (1 if tract bounds river; 0 otherwise)\n",
        "- NOX - nitric oxides concentration (parts per 10 million)\n",
        "- RM - average number of rooms per dwelling\n",
        "- AGE - proportion of owner-occupied units built prior to 1940\n",
        "- DIS - weighted distances to five Boston employment centres\n",
        "- RAD - index of accessibility to radial highways\n",
        "- TAX - full-value property-tax rate per \\$10,000\n",
        "- PTRATIO - pupil-teacher ratio by town\n",
        "- B - 1000(Bk - 0.63)^2 where Bk is the proportion of blacks by town\n",
        "- LSTAT - % lower status of the population\n",
        "- MEDV - Median value of owner-occupied homes in \\$1000's"
      ]
    },
    {
      "cell_type": "code",
      "metadata": {
        "colab": {
          "base_uri": "https://localhost:8080/",
          "height": 223
        },
        "id": "FDAWf4AX80vY",
        "outputId": "2548e680-7d8a-4470-bce1-e812df845da8"
      },
      "source": [
        "#Boston Housing Data\n",
        "\n",
        "from sklearn.linear_model import Perceptron\n",
        "from sklearn import tree\n",
        "from sklearn.model_selection import train_test_split\n",
        "from sklearn import metrics\n",
        "\n",
        "import pandas\n",
        "data = pandas.read_csv('/content/drive/MyDrive/CS167/datasets/boston_housing.csv') \n",
        "data.head()"
      ],
      "execution_count": 7,
      "outputs": [
        {
          "output_type": "execute_result",
          "data": {
            "text/html": [
              "<div>\n",
              "<style scoped>\n",
              "    .dataframe tbody tr th:only-of-type {\n",
              "        vertical-align: middle;\n",
              "    }\n",
              "\n",
              "    .dataframe tbody tr th {\n",
              "        vertical-align: top;\n",
              "    }\n",
              "\n",
              "    .dataframe thead th {\n",
              "        text-align: right;\n",
              "    }\n",
              "</style>\n",
              "<table border=\"1\" class=\"dataframe\">\n",
              "  <thead>\n",
              "    <tr style=\"text-align: right;\">\n",
              "      <th></th>\n",
              "      <th>CRIM</th>\n",
              "      <th>ZN</th>\n",
              "      <th>INDUS</th>\n",
              "      <th>CHAS</th>\n",
              "      <th>NOX</th>\n",
              "      <th>RM</th>\n",
              "      <th>AGE</th>\n",
              "      <th>DIS</th>\n",
              "      <th>RAD</th>\n",
              "      <th>TAX</th>\n",
              "      <th>PTRATIO</th>\n",
              "      <th>LSTAT</th>\n",
              "      <th>MEDV</th>\n",
              "    </tr>\n",
              "  </thead>\n",
              "  <tbody>\n",
              "    <tr>\n",
              "      <th>0</th>\n",
              "      <td>0.00632</td>\n",
              "      <td>18.0</td>\n",
              "      <td>2.31</td>\n",
              "      <td>0</td>\n",
              "      <td>0.538</td>\n",
              "      <td>6.575</td>\n",
              "      <td>65.2</td>\n",
              "      <td>4.0900</td>\n",
              "      <td>1</td>\n",
              "      <td>296</td>\n",
              "      <td>15.3</td>\n",
              "      <td>4.98</td>\n",
              "      <td>24.0</td>\n",
              "    </tr>\n",
              "    <tr>\n",
              "      <th>1</th>\n",
              "      <td>0.02731</td>\n",
              "      <td>0.0</td>\n",
              "      <td>7.07</td>\n",
              "      <td>0</td>\n",
              "      <td>0.469</td>\n",
              "      <td>6.421</td>\n",
              "      <td>78.9</td>\n",
              "      <td>4.9671</td>\n",
              "      <td>2</td>\n",
              "      <td>242</td>\n",
              "      <td>17.8</td>\n",
              "      <td>9.14</td>\n",
              "      <td>21.6</td>\n",
              "    </tr>\n",
              "    <tr>\n",
              "      <th>2</th>\n",
              "      <td>0.02729</td>\n",
              "      <td>0.0</td>\n",
              "      <td>7.07</td>\n",
              "      <td>0</td>\n",
              "      <td>0.469</td>\n",
              "      <td>7.185</td>\n",
              "      <td>61.1</td>\n",
              "      <td>4.9671</td>\n",
              "      <td>2</td>\n",
              "      <td>242</td>\n",
              "      <td>17.8</td>\n",
              "      <td>4.03</td>\n",
              "      <td>34.7</td>\n",
              "    </tr>\n",
              "    <tr>\n",
              "      <th>3</th>\n",
              "      <td>0.03237</td>\n",
              "      <td>0.0</td>\n",
              "      <td>2.18</td>\n",
              "      <td>0</td>\n",
              "      <td>0.458</td>\n",
              "      <td>6.998</td>\n",
              "      <td>45.8</td>\n",
              "      <td>6.0622</td>\n",
              "      <td>3</td>\n",
              "      <td>222</td>\n",
              "      <td>18.7</td>\n",
              "      <td>2.94</td>\n",
              "      <td>33.4</td>\n",
              "    </tr>\n",
              "    <tr>\n",
              "      <th>4</th>\n",
              "      <td>0.06905</td>\n",
              "      <td>0.0</td>\n",
              "      <td>2.18</td>\n",
              "      <td>0</td>\n",
              "      <td>0.458</td>\n",
              "      <td>7.147</td>\n",
              "      <td>54.2</td>\n",
              "      <td>6.0622</td>\n",
              "      <td>3</td>\n",
              "      <td>222</td>\n",
              "      <td>18.7</td>\n",
              "      <td>5.33</td>\n",
              "      <td>36.2</td>\n",
              "    </tr>\n",
              "  </tbody>\n",
              "</table>\n",
              "</div>"
            ],
            "text/plain": [
              "      CRIM    ZN  INDUS  CHAS    NOX  ...  RAD  TAX  PTRATIO  LSTAT  MEDV\n",
              "0  0.00632  18.0   2.31     0  0.538  ...    1  296     15.3   4.98  24.0\n",
              "1  0.02731   0.0   7.07     0  0.469  ...    2  242     17.8   9.14  21.6\n",
              "2  0.02729   0.0   7.07     0  0.469  ...    2  242     17.8   4.03  34.7\n",
              "3  0.03237   0.0   2.18     0  0.458  ...    3  222     18.7   2.94  33.4\n",
              "4  0.06905   0.0   2.18     0  0.458  ...    3  222     18.7   5.33  36.2\n",
              "\n",
              "[5 rows x 13 columns]"
            ]
          },
          "metadata": {},
          "execution_count": 7
        }
      ]
    },
    {
      "cell_type": "code",
      "metadata": {
        "colab": {
          "base_uri": "https://localhost:8080/",
          "height": 458
        },
        "id": "noAXCSmu8989",
        "outputId": "0014503e-11c3-46a2-e327-dd1273a61f31"
      },
      "source": [
        "## Play around with plotting different predictor variables\n",
        "sns.set_style(\"whitegrid\")\n",
        " \n",
        "# sepal_length, petal_length are iris\n",
        "# feature data height used to define\n",
        "# Height of graph whereas hue store the\n",
        "# class of iris dataset.\n",
        "sns.FacetGrid(data,height = 6).map(plt.scatter,'MEDV','ZN')"
      ],
      "execution_count": 8,
      "outputs": [
        {
          "output_type": "execute_result",
          "data": {
            "text/plain": [
              "<seaborn.axisgrid.FacetGrid at 0x7ff7ee6640d0>"
            ]
          },
          "metadata": {},
          "execution_count": 8
        },
        {
          "output_type": "display_data",
          "data": {
            "image/png": "[encoded data removed]",
            "text/plain": [
              "<Figure size 432x432 with 1 Axes>"
            ]
          },
          "metadata": {}
        }
      ]
    },
    {
      "cell_type": "markdown",
      "metadata": {
        "id": "p40GhLcwDDty"
      },
      "source": [
        "# In-class Exercise 2:\n",
        "- Find a Gradient Descent Algorithm on scikit-learn\n",
        "  - Hint: Stochastic Gradient Descent (SGD)\n",
        "- Apply it to the Boston Housing Market Dataset\n",
        "- Utilize a metric to determine how well the algorithm is doing\n",
        "- Consider reading the user's guide if the results don't make sense\n",
        "- Can you plot the results of the MSE v Epochs?"
      ]
    },
    {
      "cell_type": "code",
      "metadata": {
        "id": "XOhTkwZiDfvF",
        "outputId": "74009f7f-b93f-4f4f-8e8c-19d166d3cfa2",
        "colab": {
          "base_uri": "https://localhost:8080/"
        }
      },
      "source": [
        "# Code using SGD on Boston Housing Dataset:\n",
        "import warnings\n",
        "warnings.filterwarnings(\"ignore\")\n",
        "from sklearn.linear_model import SGDRegressor\n",
        "\n",
        "predictors = data.columns.drop('MEDV')\n",
        "target = \"MEDV\"\n",
        "\n",
        "#establish training and testing sets\n",
        "train_data, test_data, train_sln, test_sln = train_test_split(data[predictors], data[target], test_size = 0.2, random_state=41)\n",
        "\n",
        "#load up scikit-learn Perceptron\n",
        "sgd = SGDRegressor()\n",
        "sgd.fit(train_data,train_sln)\n",
        "predictions = sgd.predict(test_data)\n",
        "\n",
        "#output accuracy\n",
        "print(\"R2: \", metrics.r2_score(test_sln, predictions))\n",
        "print(\"MAE: \", metrics.mean_absolute_error(test_sln, predictions))\n",
        "print(\"MSE: \", metrics.mean_squared_error(test_sln, predictions))"
      ],
      "execution_count": 17,
      "outputs": [
        {
          "output_type": "stream",
          "name": "stdout",
          "text": [
            "R2:  -2.8200886332246366e+26\n",
            "MAE:  104589151605333.52\n",
            "MSE:  1.3093931739852831e+28\n"
          ]
        }
      ]
    },
    {
      "cell_type": "code",
      "metadata": {
        "id": "npA-2jDTD0s5"
      },
      "source": [
        "#normalize the data\n",
        "from sklearn.preprocessing import StandardScaler\n",
        "scaler = StandardScaler()\n",
        "scaler.fit(train_data)\n",
        "train_data_norm = scaler.transform(train_data)\n",
        "test_data_norm = scaler.transform(test_data)\n",
        "\n",
        "sgd = SGDRegressor()\n",
        "sgd.fit(train_data_norm, train_sln)\n",
        "predictions = sgd.predict(test_data_norm)\n",
        "\n",
        "#output accuracy\n",
        "print(\"R2: \", metrics.r2_score(test_sln, predictions))\n",
        "print(\"MAE: \", metrics.mean_absolute_error(test_sln, predictions))\n",
        "print(\"MSE: \", metrics.mean_squared_error(test_sln, predictions))"
      ],
      "execution_count": null,
      "outputs": []
    },
    {
      "cell_type": "code",
      "metadata": {
        "id": "C4PHjMwTVorC",
        "outputId": "a2b29bcb-f976-441a-ada2-69fc6928b15d",
        "colab": {
          "base_uri": "https://localhost:8080/"
        }
      },
      "source": [
        "sgd = SGDRegressor(learning_rate=\"constant\", eta0=0.000001, max_iter=10000000)\n",
        "sgd.fit(train_data, train_sln)\n",
        "\n",
        "pred = sgd.predict(test_data)\n",
        "\n",
        "print(\"SGD Regression R2:\", metrics.r2_score(test_sln, pred))\n",
        "print(\"SGD Regression MAE:\", metrics.mean_absolute_error(test_sln, pred))\n",
        "print(\"SGD Regression MSE:\", metrics.mean_squared_error(test_sln, pred))"
      ],
      "execution_count": 18,
      "outputs": [
        {
          "output_type": "stream",
          "name": "stdout",
          "text": [
            "SGD Regression R2: -0.14288210810652702\n",
            "SGD Regression MAE: 5.8357040023000675\n",
            "SGD Regression MSE: 53.065070841884896\n"
          ]
        }
      ]
    },
    {
      "cell_type": "code",
      "metadata": {
        "id": "5DkZWMu1VuYo",
        "outputId": "b165b72b-b55a-4142-b795-0a30111bb016",
        "colab": {
          "base_uri": "https://localhost:8080/",
          "height": 308
        }
      },
      "source": [
        "#regression_SGD performs Stochastic Gradient Descent\n",
        "#input: training data, testing, data, traing solution, testing solutions, # of epochs\n",
        "#return: the mean squared error\n",
        "def regression_SGD(train, test, train_sln, test_sln, epochs):\n",
        "    sgd = SGDRegressor(eta0=0.000001, max_iter=epochs)\n",
        "    sgd.fit(train, train_sln)\n",
        "    predictions = sgd.predict(test)\n",
        "    mse = metrics.mean_squared_error(test_sln,predictions)\n",
        "    return mse\n",
        "\n",
        "# run the data over this range of epochs 1 through 10\n",
        "epoch_list = range(100, 1001, 100)\n",
        "epoch_accuracies = []\n",
        "\n",
        "for epoch in epoch_list:\n",
        "    r = regression_SGD(train_data, test_data, train_sln, test_sln, epoch)\n",
        "    epoch_accuracies.append(r)\n",
        "    \n",
        "# plot the results\n",
        "import matplotlib.pyplot as plt\n",
        "%matplotlib inline\n",
        "plt.suptitle('MSE vs Epochs (not normalized)',fontsize=12)\n",
        "plt.xlabel('number of epochs')\n",
        "plt.ylabel('mean squared error')\n",
        "plt.plot(epoch_list,epoch_accuracies,'bs-')\n",
        "\n",
        "plt.axis([100,1001,0,200])\n",
        "\n",
        "plt.show()"
      ],
      "execution_count": 19,
      "outputs": [
        {
          "output_type": "display_data",
          "data": {
            "image/png": "[encoded data removed]",
            "text/plain": [
              "<Figure size 432x288 with 1 Axes>"
            ]
          },
          "metadata": {
            "needs_background": "light"
          }
        }
      ]
    },
    {
      "cell_type": "code",
      "metadata": {
        "id": "Tr047KdWDxz_",
        "outputId": "1d8858d1-2779-4b4c-a62e-9085f157ad50",
        "colab": {
          "base_uri": "https://localhost:8080/",
          "height": 308
        }
      },
      "source": [
        "# Plot the results of the MSE v Epochs\n",
        "#regression_SGD performs Stochastic Gradient Descent\n",
        "#input: training data, testing, data, traing solution, testing solutions, # of epochs\n",
        "#return: the mean squared error\n",
        "def regression_SGD(train, test, train_sln, test_sln, epochs):\n",
        "    sgd = SGDRegressor(eta0=0.000001, max_iter=epochs) #let's try with setting eta to be very small\n",
        "    sgd.fit(train, train_sln)\n",
        "    predictions = sgd.predict(test)\n",
        "    mse = metrics.mean_squared_error(test_sln,predictions)\n",
        "    return mse\n",
        "\n",
        "# run the data over this range of epochs 1 through 10\n",
        "epoch_list = range(100,1001,100)\n",
        "epoch_accuracies = []\n",
        "\n",
        "for epoch in epoch_list:\n",
        "    r = regression_SGD(train_data, test_data, train_sln, test_sln, epoch)\n",
        "    epoch_accuracies.append(r)\n",
        "    \n",
        "# plot the results\n",
        "import matplotlib.pyplot as plt\n",
        "%matplotlib inline\n",
        "plt.suptitle('MSE vs Epochs (not normalized)',fontsize=12)\n",
        "plt.xlabel('number of epochs')\n",
        "plt.ylabel('mean squared error')\n",
        "plt.plot(epoch_list,epoch_accuracies,'bs-')\n",
        "\n",
        "plt.axis([100,1000,0,100])\n",
        "\n",
        "plt.show()"
      ],
      "execution_count": 20,
      "outputs": [
        {
          "output_type": "display_data",
          "data": {
            "image/png": "[encoded data removed]",
            "text/plain": [
              "<Figure size 432x288 with 1 Axes>"
            ]
          },
          "metadata": {
            "needs_background": "light"
          }
        }
      ]
    },
    {
      "cell_type": "code",
      "metadata": {
        "id": "VDmT_6BNV6O2",
        "outputId": "bb348887-3f33-4ebe-9149-1bb232fa9c67",
        "colab": {
          "base_uri": "https://localhost:8080/",
          "height": 308
        }
      },
      "source": [
        "#normalize the data\n",
        "from sklearn.preprocessing import StandardScaler\n",
        "scaler = StandardScaler()\n",
        "scaler.fit(train_data)\n",
        "train_data_normalized = scaler.transform(train_data)\n",
        "test_data_normalized = scaler.transform(test_data)\n",
        "\n",
        "#regression_SGD performs Stochastic Gradient Descent\n",
        "#input: training data, testing, data, traing solution, testing solutions, # of epochs\n",
        "#return: the mean squared error\n",
        "def regression_SGD(train, test, train_sln, test_sln, epochs):\n",
        "    sgd = SGDRegressor(max_iter=epochs)\n",
        "    sgd.fit(train, train_sln)\n",
        "    predictions = sgd.predict(test)\n",
        "    mse = metrics.mean_squared_error(test_sln,predictions)\n",
        "    return mse\n",
        "\n",
        "# run the data over this range of epochs 1 through 10\n",
        "epoch_list = range(1, 11)\n",
        "epoch_accuracies = []\n",
        "\n",
        "for epoch in epoch_list:\n",
        "    r = regression_SGD(train_data_normalized, test_data_normalized, train_sln, test_sln, epoch)\n",
        "    epoch_accuracies.append(r)\n",
        "\n",
        "# plot the results\n",
        "import matplotlib.pyplot as plt\n",
        "%matplotlib inline\n",
        "plt.suptitle('MSE vs Epochs (normalized)',fontsize=12)\n",
        "plt.xlabel('number of epochs')\n",
        "plt.ylabel('mean squared error')\n",
        "plt.plot(epoch_list,epoch_accuracies,'bs-')\n",
        "\n",
        "plt.axis([1,10,0,100])\n",
        "\n",
        "plt.show()"
      ],
      "execution_count": 21,
      "outputs": [
        {
          "output_type": "display_data",
          "data": {
            "image/png": "[encoded data removed]",
            "text/plain": [
              "<Figure size 432x288 with 1 Axes>"
            ]
          },
          "metadata": {
            "needs_background": "light"
          }
        }
      ]
    }
  ]
}